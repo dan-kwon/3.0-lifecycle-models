{
 "cells": [
  {
   "cell_type": "code",
   "execution_count": 0,
   "metadata": {
    "application/vnd.databricks.v1+cell": {
     "cellMetadata": {},
     "inputWidgets": {},
     "nuid": "ae35fab8-d6b5-44f7-9354-ac4ce1f87728",
     "showTitle": false,
     "title": ""
    }
   },
   "outputs": [],
   "source": [
    "import pandas as pd\n",
    "import pyspark.sql.functions as F\n",
    "from pyspark.sql.window import Window\n",
    "from pyspark.sql.types import *\n",
    "import requests\n",
    "import math\n",
    "\n",
    "# rename columns and Braze attributes to be specific to the lag_days for the predictions\n",
    "braze_user_track_payload_schema = StructType()\\\n",
    "    .add(\"external_id\", StringType())\\\n",
    "    .add(\"uplift_score_bin\", IntegerType())\\\n",
    "    .add(\"uplift_score\", DoubleType())\n",
    "\n",
    "braze_api_url = \"https://rest.iad-02.braze.com/users/track\"\n",
    "braze_api_amplitude_prod = \"46639013-e745-4bf9-8cff-f0de888469d1\"\n",
    "braze_api_key = braze_api_amplitude_prod"
   ]
  },
  {
   "cell_type": "code",
   "execution_count": 0,
   "metadata": {
    "application/vnd.databricks.v1+cell": {
     "cellMetadata": {},
     "inputWidgets": {},
     "nuid": "614a273d-47e1-4140-aaa6-1553f82d6bcb",
     "showTitle": false,
     "title": ""
    }
   },
   "outputs": [],
   "source": [
    "query = \"\"\"\n",
    "  select distinct signup_date\n",
    "  from ds_staging.features__engagement_first_7_days\n",
    "  order by 1\n",
    "  \"\"\"\n",
    "\n",
    "list_of_available_dates = [str(i.date()) for i in pd.to_datetime(spark.sql(query).toPandas().values[:,0])]"
   ]
  },
  {
   "cell_type": "code",
   "execution_count": 0,
   "metadata": {
    "application/vnd.databricks.v1+cell": {
     "cellMetadata": {},
     "inputWidgets": {},
     "nuid": "0bbc72c2-4e17-4335-8a66-f5d624e14ac4",
     "showTitle": false,
     "title": ""
    }
   },
   "outputs": [],
   "source": [
    "dbutils.widgets.removeAll()"
   ]
  },
  {
   "cell_type": "code",
   "execution_count": 0,
   "metadata": {
    "application/vnd.databricks.v1+cell": {
     "cellMetadata": {},
     "inputWidgets": {},
     "nuid": "fde48a91-8b35-4555-8f54-b98e2218c6b1",
     "showTitle": false,
     "title": ""
    }
   },
   "outputs": [],
   "source": [
    "dbutils.widgets.dropdown(name=\"signup_date\",\n",
    "                         defaultValue=max(list_of_available_dates), \n",
    "                         choices=list_of_available_dates,\n",
    "                         label=\"Signup Date\")"
   ]
  },
  {
   "cell_type": "code",
   "execution_count": 0,
   "metadata": {
    "application/vnd.databricks.v1+cell": {
     "cellMetadata": {},
     "inputWidgets": {},
     "nuid": "0aed83e6-06ee-41d4-8d58-a8febcb6a557",
     "showTitle": false,
     "title": ""
    }
   },
   "outputs": [],
   "source": [
    "SIGNUP_DATE  = dbutils.widgets.get(\"signup_date\")"
   ]
  },
  {
   "cell_type": "code",
   "execution_count": 0,
   "metadata": {
    "application/vnd.databricks.v1+cell": {
     "cellMetadata": {},
     "inputWidgets": {},
     "nuid": "ae67f9dc-68ac-4003-924f-217fe2c8dcb4",
     "showTitle": false,
     "title": ""
    }
   },
   "outputs": [],
   "source": [
    "# \n",
    "query = f\"\"\"\n",
    "  with prop_scores as (\n",
    "    select p.*, \n",
    "           row_number() over(partition by hs_user_id order by signup_date desc) sub_rank\n",
    "    from ds_staging.lifecycle_models__ftdo_propensity_scores p\n",
    "    where signup_date = '{SIGNUP_DATE}'\n",
    "  )\n",
    "  select hs_user_id, \n",
    "         uplift_score_bin, \n",
    "         uplift_score\n",
    "  from prop_scores\n",
    "  where sub_rank = 1\n",
    "\"\"\"\n",
    "\n",
    "df_ftdo_propensity = spark.sql(query)\n",
    "df_ftdo_propensity = df_ftdo_propensity.withColumn(\"row_number\", F.row_number().over(Window.partitionBy().orderBy(df_ftdo_propensity['hs_user_id'])))\n",
    "\n",
    "# rename table columns to be specific to the lag_days parameter in use\n",
    "row_count = df_ftdo_propensity.count()\n",
    "braze_request_event_limit = 50\n",
    "batch_requests = math.ceil(row_count / braze_request_event_limit)"
   ]
  },
  {
   "cell_type": "code",
   "execution_count": 0,
   "metadata": {
    "application/vnd.databricks.v1+cell": {
     "cellMetadata": {},
     "inputWidgets": {},
     "nuid": "c27e782e-fa12-4181-9019-897add71de1d",
     "showTitle": false,
     "title": ""
    }
   },
   "outputs": [],
   "source": [
    " # rename table columns\n",
    "def to_braze_payload(hs_user_id, uplift_score_bin, uplift_score):\n",
    "  return {\"external_id\":hs_user_id, \n",
    "          \"uplift_score_bin\":int(uplift_score_bin), \n",
    "          \"uplift_score\":uplift_score}\n",
    "\n",
    "def send_to_braze(attributes):\n",
    "  payload = {\n",
    "    \"api_key\": braze_api_key,\n",
    "    \"attributes\": list(map(lambda d: d.asDict(), attributes))\n",
    "  }\n",
    "  return requests.post(braze_api_url, json=payload).json()\n",
    "\n",
    "# create user_track payload for each user\n",
    "df_braze_payload = (df_ftdo_propensity\n",
    "        .withColumn(\"braze_payload\", F.udf(to_braze_payload, braze_user_track_payload_schema)(F.col(\"hs_user_id\"), F.col(\"uplift_score_bin\"), F.col(\"uplift_score\")))\n",
    "        .withColumn(\"batch_request_num\", F.column(\"row_number\") % batch_requests))\n",
    "\n",
    "# batch user_track into group of 50 (braze batch request limit)\n",
    "df_braze_batch_request = df_braze_payload.groupBy(\"batch_request_num\").agg(F.collect_list(F.col(\"braze_payload\")).alias(\"batch_request_payload\"))\n",
    "\n",
    "# execute the request (no throttling or retry)\n",
    "df_braze_response = (df_braze_batch_request.withColumn(\"batch_response\", F.udf(send_to_braze)(F.col(\"batch_request_payload\")))).cache()"
   ]
  },
  {
   "cell_type": "code",
   "execution_count": 0,
   "metadata": {
    "application/vnd.databricks.v1+cell": {
     "cellMetadata": {},
     "inputWidgets": {},
     "nuid": "d773157c-a326-422e-9c5f-eb353e295be7",
     "showTitle": false,
     "title": ""
    }
   },
   "outputs": [],
   "source": [
    "display(df_braze_response)"
   ]
  }
 ],
 "metadata": {
  "application/vnd.databricks.v1+notebook": {
   "dashboards": [],
   "language": "python",
   "notebookMetadata": {
    "pythonIndentUnit": 4
   },
   "notebookName": "prod__2.0-ftdo-braze-integration",
   "widgets": {}
  }
 },
 "nbformat": 4,
 "nbformat_minor": 0
}
