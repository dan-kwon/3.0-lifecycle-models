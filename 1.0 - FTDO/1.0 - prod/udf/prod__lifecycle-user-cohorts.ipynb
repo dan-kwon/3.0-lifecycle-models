{
 "cells": [
  {
   "cell_type": "code",
   "execution_count": 0,
   "metadata": {
    "application/vnd.databricks.v1+cell": {
     "cellMetadata": {},
     "inputWidgets": {},
     "nuid": "4e27a9f9-fd6b-49e9-a7f6-6f3d82bac7da",
     "showTitle": false,
     "title": ""
    }
   },
   "outputs": [],
   "source": [
    "def get_user_cohort(cohort, country_code, subscription_type, begin_date, end_date):\n",
    "  if cohort == \"free trial drop out\":\n",
    "    query = f\"\"\"\n",
    "      select s.*,\n",
    "             s.dt signup_date,\n",
    "             date_add(last_day(add_months(s.dt, -1)),1) signup_month\n",
    "      from silver.fact_subscription s\n",
    "      where lower(s.subscription_type) = '{subscription_type}'\n",
    "        and lower(s.country_code) = '{country_code}'\n",
    "        and s.free_trial_start_date between '{begin_date}' and '{end_date}'\n",
    "      \"\"\"\n",
    "    return spark.sql(query)\n",
    "  elif cohort == \"winback\":\n",
    "    print(\"WIP\")\n",
    "    return None\n",
    "  else:\n",
    "    print(\"ERROR: COHORT NOT DEFINED\")\n",
    "    return None"
   ]
  },
  {
   "cell_type": "code",
   "execution_count": 0,
   "metadata": {
    "application/vnd.databricks.v1+cell": {
     "cellMetadata": {},
     "inputWidgets": {},
     "nuid": "a1c541b2-329e-49e4-a705-55345aa7e8ce",
     "showTitle": false,
     "title": ""
    }
   },
   "outputs": [],
   "source": [
    "%sql\n",
    "select signup_date,\n",
    "       count(*)\n",
    "from ds_staging.lifecycle_models__ftdo_propensity_scores\n",
    "where uplift_score_bin > 5 \n",
    "group by 1\n",
    "order by 1"
   ]
  },
  {
   "cell_type": "code",
   "execution_count": 0,
   "metadata": {
    "application/vnd.databricks.v1+cell": {
     "cellMetadata": {},
     "inputWidgets": {},
     "nuid": "01d598cc-3eb2-40e9-a540-7efb694848e0",
     "showTitle": false,
     "title": ""
    }
   },
   "outputs": [],
   "source": []
  }
 ],
 "metadata": {
  "application/vnd.databricks.v1+notebook": {
   "dashboards": [],
   "language": "python",
   "notebookMetadata": {},
   "notebookName": "prod__lifecycle-user-cohorts",
   "widgets": {}
  }
 },
 "nbformat": 4,
 "nbformat_minor": 0
}
