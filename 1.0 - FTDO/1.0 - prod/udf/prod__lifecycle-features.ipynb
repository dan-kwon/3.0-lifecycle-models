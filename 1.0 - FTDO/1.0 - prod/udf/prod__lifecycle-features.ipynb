{
 "cells": [
  {
   "cell_type": "code",
   "execution_count": 0,
   "metadata": {
    "application/vnd.databricks.v1+cell": {
     "cellMetadata": {},
     "inputWidgets": {},
     "nuid": "211c8ecc-f2c4-4b59-b5e0-a480e0463098",
     "showTitle": false,
     "title": ""
    }
   },
   "outputs": [],
   "source": [
    "def get_engagement_features(cohort, begin_date, end_date):\n",
    "  if cohort == \"free trial drop out\":\n",
    "    query = f\"\"\"select * \n",
    "                from ds_staging.features__engagement_first_7_days\n",
    "                where signup_date between '{begin_date}' and '{end_date}'\"\"\"\n",
    "    return spark.sql(query)\n",
    "  elif cohort == \"winback\":\n",
    "    print(\"WIP\")\n",
    "    return None  \n",
    "  else:\n",
    "    print(\"ERROR: COULD NOT LOAD ENGAGEMENT FEATURES\")\n",
    "    return None  \n",
    "\n",
    "def get_event_features(cohort, begin_date, end_date):\n",
    "  if cohort == \"free trial drop out\":\n",
    "    query = f\"\"\"select * \n",
    "                from ds_staging.features__events_first_7_days\n",
    "                where signup_date between '{begin_date}' and '{end_date}'\"\"\"\n",
    "    return spark.sql(query)\n",
    "  elif cohort == \"winback\":\n",
    "    print(\"WIP\")\n",
    "    return None  \n",
    "  else:\n",
    "    print(\"ERROR: COULD NOT LOAD ENGAGEMENT FEATURES\")\n",
    "    return None  "
   ]
  },
  {
   "cell_type": "code",
   "execution_count": 0,
   "metadata": {
    "application/vnd.databricks.v1+cell": {
     "cellMetadata": {},
     "inputWidgets": {},
     "nuid": "f2aaee0d-baf0-4280-9de5-3488d7c0fd34",
     "showTitle": false,
     "title": ""
    }
   },
   "outputs": [],
   "source": [
    "def aggr_week1_feature(X,feature_suffix):\n",
    "  X[f\"\"\"week1_{feature_suffix}\"\"\"] = X[f\"\"\"day0_{feature_suffix}\"\"\"] + \\\n",
    "                                     X[f\"\"\"day1_{feature_suffix}\"\"\"] + \\\n",
    "                                     X[f\"\"\"day2_{feature_suffix}\"\"\"] + \\\n",
    "                                     X[f\"\"\"day3_{feature_suffix}\"\"\"] + \\\n",
    "                                     X[f\"\"\"day4_{feature_suffix}\"\"\"] + \\\n",
    "                                     X[f\"\"\"day5_{feature_suffix}\"\"\"] + \\\n",
    "                                     X[f\"\"\"day6_{feature_suffix}\"\"\"]\n",
    "  return X\n",
    "\n",
    "def trailing_3day_avg(X,feature_suffix,from_day):\n",
    "  day_1 = from_day-2\n",
    "  day_2 = from_day-1\n",
    "  day_3 = from_day\n",
    "  X[f\"\"\"day{day_3}_trailing3day_avg_{feature_suffix}\"\"\"] = (X[f\"\"\"day{day_3}_{feature_suffix}\"\"\"] + \n",
    "                                                            X[f\"\"\"day{day_2}_{feature_suffix}\"\"\"] +\n",
    "                                                            X[f\"\"\"day{day_1}_{feature_suffix}\"\"\"]) / 3\n",
    "  return X\n",
    "\n",
    "def aggregate_weeks(X,feature_suffix):\n",
    "  X[f\"\"\"week_2to4_{feature_suffix}\"\"\"] = (X[f\"\"\"week2_{feature_suffix}\"\"\"] + \n",
    "                                          X[f\"\"\"week3_{feature_suffix}\"\"\"] +\n",
    "                                          X[f\"\"\"week4_{feature_suffix}\"\"\"])\n",
    "  return X\n",
    "\n",
    "def slope_week1_feature(X,feature_suffix):\n",
    "  X[f\"\"\"week1_{feature_suffix}_slope\"\"\"] = (X[f\"\"\"day7_trailing3day_avg_{feature_suffix}\"\"\"]/(X[f\"\"\"day6_trailing3day_avg_{feature_suffix}\"\"\"]+0.00000001)-1 + \n",
    "                                            X[f\"\"\"day6_trailing3day_avg_{feature_suffix}\"\"\"]/(X[f\"\"\"day5_trailing3day_avg_{feature_suffix}\"\"\"]+0.00000001)-1 + \n",
    "                                            X[f\"\"\"day5_trailing3day_avg_{feature_suffix}\"\"\"]/(X[f\"\"\"day4_trailing3day_avg_{feature_suffix}\"\"\"]+0.00000001)-1 + \n",
    "                                            X[f\"\"\"day4_trailing3day_avg_{feature_suffix}\"\"\"]/(X[f\"\"\"day3_trailing3day_avg_{feature_suffix}\"\"\"]+0.00000001)-1)/4                                 \n",
    "  return X"
   ]
  }
 ],
 "metadata": {
  "application/vnd.databricks.v1+notebook": {
   "dashboards": [],
   "language": "python",
   "notebookMetadata": {},
   "notebookName": "prod__lifecycle-features",
   "widgets": {}
  }
 },
 "nbformat": 4,
 "nbformat_minor": 0
}
