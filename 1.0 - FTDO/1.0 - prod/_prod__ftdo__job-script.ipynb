{
 "cells": [
  {
   "cell_type": "code",
   "execution_count": 0,
   "metadata": {
    "application/vnd.databricks.v1+cell": {
     "cellMetadata": {},
     "inputWidgets": {},
     "nuid": "c591a915-75f6-4f38-a639-e507485e375a",
     "showTitle": false,
     "title": ""
    }
   },
   "outputs": [],
   "source": [
    "# libraries\n",
    "import pandas as pd\n",
    "from datetime import datetime, timedelta\n",
    "from pyspark.sql import functions as F\n",
    "from dateutil.relativedelta import relativedelta\n",
    "# global variables\n",
    "today = datetime.today()"
   ]
  },
  {
   "cell_type": "code",
   "execution_count": 0,
   "metadata": {
    "application/vnd.databricks.v1+cell": {
     "cellMetadata": {},
     "inputWidgets": {},
     "nuid": "30b00fc7-44e4-4752-95f4-43e7bd4dd666",
     "showTitle": false,
     "title": ""
    }
   },
   "outputs": [],
   "source": [
    "DATE_7DAYS_AGO = str(today.date() - relativedelta(days=7))"
   ]
  },
  {
   "cell_type": "code",
   "execution_count": 0,
   "metadata": {
    "application/vnd.databricks.v1+cell": {
     "cellMetadata": {},
     "inputWidgets": {},
     "nuid": "24d9863f-2d7c-427e-9b47-4278e3518343",
     "showTitle": false,
     "title": ""
    }
   },
   "outputs": [],
   "source": [
    "# backfill (comment out after running and deploying to prod)\n",
    "for i in [pd.to_datetime(\"2022-05-31\").date() - timedelta(days=x) for x in range(31)]:\n",
    "  dbutils.notebook.run(\"./prod__1.0-ftdo-lifecycle-model\", 60*120, {\"signup_date\": str(i),\n",
    "                                                                   \"user_cohort\": \"free trial drop out\",\n",
    "                                                                   \"target_event\": \"converted free trial drop out\",\n",
    "                                                                  })\n",
    "  dbutils.notebook.run(\"prod__2.0-ftdo-braze-integration\", 60*60, {\"signup_date\": str(i)})"
   ]
  }
 ],
 "metadata": {
  "application/vnd.databricks.v1+notebook": {
   "dashboards": [],
   "language": "python",
   "notebookMetadata": {},
   "notebookName": "_prod__ftdo__job-script",
   "widgets": {}
  }
 },
 "nbformat": 4,
 "nbformat_minor": 0
}
