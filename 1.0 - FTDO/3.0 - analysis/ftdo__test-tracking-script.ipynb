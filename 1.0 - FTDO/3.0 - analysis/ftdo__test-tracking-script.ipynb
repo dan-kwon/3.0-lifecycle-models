{
 "cells": [
  {
   "cell_type": "code",
   "execution_count": 0,
   "metadata": {
    "application/vnd.databricks.v1+cell": {
     "cellMetadata": {},
     "inputWidgets": {},
     "nuid": "54516234-356d-43ac-a50e-26d155efda97",
     "showTitle": false,
     "title": ""
    }
   },
   "outputs": [],
   "source": [
    "# libraries\n",
    "import pandas as pd\n",
    "import numpy as np\n",
    "import seaborn as sns\n",
    "import matplotlib.pyplot as plt\n",
    "from datetime import datetime, timedelta\n",
    "from pyspark.sql import functions as F\n",
    "from sklearn.utils import resample\n",
    "import random\n",
    "\n",
    "# global vars\n",
    "today = datetime.today()\n",
    "random_state = 1234"
   ]
  },
  {
   "cell_type": "code",
   "execution_count": 0,
   "metadata": {
    "application/vnd.databricks.v1+cell": {
     "cellMetadata": {},
     "inputWidgets": {},
     "nuid": "cb086b51-1607-4e4f-86c8-aef6dad37774",
     "showTitle": false,
     "title": ""
    }
   },
   "outputs": [],
   "source": [
    "#list_of_available_dates = [str(i.date()) for i in pd.to_datetime(spark.sql(query).toPandas().values[:,0])]\n",
    "\n",
    "[today.date() - timedelta(days=x) for x in range(14)]"
   ]
  },
  {
   "cell_type": "code",
   "execution_count": 0,
   "metadata": {
    "application/vnd.databricks.v1+cell": {
     "cellMetadata": {},
     "inputWidgets": {},
     "nuid": "d73b88b4-21f3-4aea-aec3-623fe7971e7d",
     "showTitle": false,
     "title": ""
    }
   },
   "outputs": [],
   "source": [
    "# define date range\n",
    "dbutils.widgets.dropdown(name=\"begin_date\",\n",
    "                         defaultValue=\"2022-05-10\", \n",
    "                         choices=[\"2022-05-10\"],\n",
    "                         label=\"Begin Date\")\n",
    "\n",
    "dbutils.widgets.dropdown(name=\"end_date\",\n",
    "                         defaultValue=\"2022-05-25\",\n",
    "                         choices=[\"2022-05-25\"],\n",
    "                         label=\"End Date\")\n",
    "\n",
    "# define horizon days\n",
    "dbutils.widgets.text(name=\"horizon_days\", \n",
    "                     defaultValue=\"28\", \n",
    "                     label=\"Horizon Days\")"
   ]
  },
  {
   "cell_type": "code",
   "execution_count": 0,
   "metadata": {
    "application/vnd.databricks.v1+cell": {
     "cellMetadata": {},
     "inputWidgets": {},
     "nuid": "3b436219-f015-4f11-854e-87950a1b9715",
     "showTitle": false,
     "title": ""
    }
   },
   "outputs": [],
   "source": [
    "int(dbutils.widgets.get(\"horizon_days\"))"
   ]
  },
  {
   "cell_type": "code",
   "execution_count": 0,
   "metadata": {
    "application/vnd.databricks.v1+cell": {
     "cellMetadata": {},
     "inputWidgets": {},
     "nuid": "f8082b80-46ff-4c8e-a622-028c43d42f8c",
     "showTitle": false,
     "title": ""
    }
   },
   "outputs": [],
   "source": [
    "# parameters\n",
    "HORIZON_DAYS = int(dbutils.widgets.get(\"horizon_days\"))\n",
    "# date parameters\n",
    "BEGIN_DATE  = dbutils.widgets.get(\"begin_date\")\n",
    "END_DATE    = dbutils.widgets.get(\"end_date\")"
   ]
  },
  {
   "cell_type": "code",
   "execution_count": 0,
   "metadata": {
    "application/vnd.databricks.v1+cell": {
     "cellMetadata": {},
     "inputWidgets": {},
     "nuid": "c1c92cbc-ea51-49d8-916f-7c177dd6bb81",
     "showTitle": false,
     "title": ""
    }
   },
   "outputs": [],
   "source": [
    "%sql\n",
    "\n",
    "select canvas_variation_name, in_control_group, count(*)\n",
    "from bronze.braze_events b\n",
    "inner join lifecycle_models__ftdo_propensity_scores s\n",
    "  on b.external_\n",
    "where canvas_id = '53daa1d2-412c-4e02-9671-424545b223a7'\n",
    "  and event_name in ('users_canvas_entry','users_messages_email_delivery')\n",
    "  and b.dt >= '2022-05-10'\n",
    "group by 1,2\n",
    "order by 1,2;"
   ]
  },
  {
   "cell_type": "code",
   "execution_count": 0,
   "metadata": {
    "application/vnd.databricks.v1+cell": {
     "cellMetadata": {},
     "inputWidgets": {},
     "nuid": "1841ef85-a155-47d6-aa5e-221c9128d530",
     "showTitle": false,
     "title": ""
    }
   },
   "outputs": [],
   "source": [
    "%sql\n",
    "with\n",
    "tmp as (\n",
    "    select external_user_id,\n",
    "           canvas_variation_name,\n",
    "           min(case when event_name = 'users_canvas_entry' then b.dt else null end) canvas_entry_date,\n",
    "           count(case when b.canvas_step_name like '%20%' then 1 else null end) num_offers_20,\n",
    "           count(case when b.canvas_step_name like '%30%' then 1 else null end) num_offers_30,\n",
    "           count(case when b.canvas_step_name like '%40%' then 1 else null end) num_offers_40\n",
    "    from bronze.braze_events b\n",
    "    where canvas_id = '53daa1d2-412c-4e02-9671-424545b223a7'\n",
    "      and event_name in ('users_canvas_entry','users_messages_email_delivery')\n",
    "      and b.dt >= '2022-05-10'\n",
    "    group by 1,2\n",
    "    having canvas_entry_date >= '2022-05-10'\n",
    ")\n",
    "select canvas_variation_name,\n",
    "       count(*)\n",
    "from tmp\n",
    "group by 1\n",
    "order by 1"
   ]
  },
  {
   "cell_type": "code",
   "execution_count": 0,
   "metadata": {
    "application/vnd.databricks.v1+cell": {
     "cellMetadata": {},
     "inputWidgets": {},
     "nuid": "2cb6c668-50bf-4830-b73d-4e45d11e3b3b",
     "showTitle": false,
     "title": ""
    }
   },
   "outputs": [],
   "source": [
    "query = f\"\"\"\n",
    "  with \n",
    "  braze as (\n",
    "    select external_user_id,\n",
    "           canvas_variation_name,       \n",
    "           min(case when event_name = 'users_canvas_entry' then b.dt else null end) canvas_entry_date,\n",
    "           count(case when b.canvas_step_name like '%20%' then 1 else null end) num_offers_20,\n",
    "           count(case when b.canvas_step_name like '%30%' then 1 else null end) num_offers_30,\n",
    "           count(case when b.canvas_step_name like '%40%' then 1 else null end) num_offers_40\n",
    "    from bronze.braze_events b\n",
    "    where canvas_id = '53daa1d2-412c-4e02-9671-424545b223a7'\n",
    "      and event_name in ('users_canvas_entry','users_messages_email_delivery')\n",
    "      and b.dt between '{BEGIN_DATE}' and '{END_DATE}'\n",
    "    group by 1,2\n",
    "  ),\n",
    "  all_users as (\n",
    "    select s.hs_user_id,\n",
    "           b.canvas_variation_name,\n",
    "           b.num_offers_20,\n",
    "           b.num_offers_30,\n",
    "           b.num_offers_40,\n",
    "           b.canvas_entry_date,\n",
    "           s.voucher_code,\n",
    "           lead(s.voucher_code) over (partition by hs_user_id order by s.dt, s.created_timestamp, s.updated_timestamp) next_voucher_code,\n",
    "           s.dt signup_date,\n",
    "           s.free_trial_start_date,\n",
    "           s.free_trial_end_date,\n",
    "           s.paid_subscription_start_date,\n",
    "           s.paid_subscription_end_date,\n",
    "           s.created_timestamp,\n",
    "           s.updated_timestamp,\n",
    "           lead(s.free_trial_start_date) over (partition by hs_user_id order by s.dt, s.created_timestamp, s.updated_timestamp) next_free_trial_start_date,\n",
    "           lead(s.free_trial_end_date) over (partition by hs_user_id order by s.dt, s.created_timestamp, s.updated_timestamp) next_free_trial_end_date,\n",
    "           lead(s.paid_subscription_start_date) over (partition by hs_user_id order by s.dt, s.created_timestamp, s.updated_timestamp) next_paid_subscription_start_date,\n",
    "           lead(s.paid_subscription_end_date) over (partition by hs_user_id order by s.dt, s.created_timestamp, s.updated_timestamp) next_paid_subscription_end_date,\n",
    "           --lead(s.subscriber_status) over (partition by hs_user_id order by s.dt, s.created_timestamp, s.updated_timestamp) next_subscriber_status,\n",
    "           row_number() over(partition by s.hs_user_id order by datediff(s.dt, b.canvas_entry_date)) sub_rank \n",
    "    from braze b\n",
    "    inner join silver.fact_subscription s\n",
    "      on b.external_user_id = s.hs_user_id\n",
    "      and s.dt between b.canvas_entry_date and date_add(b.canvas_entry_date,42)\n",
    "  ),\n",
    "  control_nonresponders as (\n",
    "    select 'CN' experiment_group, \n",
    "           coalesce(int(regexp_extract(lower(a.next_voucher_code), '([0-9]{{2}})(?:off)',1)),0) discount_redeemed,\n",
    "           a.*\n",
    "    from all_users a\n",
    "    where canvas_variation_name = 'Control'\n",
    "      and sub_rank = 1\n",
    "      and free_trial_start_date is not null\n",
    "      and free_trial_end_date <> coalesce(paid_subscription_start_date,'9999-12-31')\n",
    "      and datediff(coalesce(next_paid_subscription_start_date, '9999-12-31'), free_trial_end_date) > {HORIZON_DAYS}\n",
    "  ),\n",
    "  treatment_nonresponders as (\n",
    "    select 'TN' experiment_group, \n",
    "           coalesce(int(regexp_extract(lower(a.next_voucher_code), '([0-9]{{2}})(?:off)',1)),0) discount_redeemed,\n",
    "           a.*\n",
    "    from all_users a \n",
    "    where canvas_variation_name <> 'Control'\n",
    "      and sub_rank = 1\n",
    "      and free_trial_start_date        is not null\n",
    "      and paid_subscription_start_date is null\n",
    "      and datediff(coalesce(next_paid_subscription_start_date, '9999-12-31'), free_trial_end_date) > {HORIZON_DAYS}\n",
    "  ),\n",
    "  control_responders as (\n",
    "    select 'CR' experiment_group,\n",
    "           coalesce(int(regexp_extract(lower(a.next_voucher_code), '([0-9]{{2}})(?:off)',1)),0) discount_redeemed,\n",
    "           a.*\n",
    "    from all_users a\n",
    "    where canvas_variation_name = 'Control'\n",
    "      and sub_rank = 1\n",
    "      and free_trial_start_date        is not null\n",
    "      and next_free_trial_start_date   is null\n",
    "      and paid_subscription_start_date is null\n",
    "      and datediff(coalesce(next_paid_subscription_start_date, '9999-12-31'), free_trial_end_date) <= {HORIZON_DAYS}\n",
    "      --and int(regexp_extract(lower(a.next_voucher_code), '([0-9]{{2}})(?:off)',1)) is null\n",
    "  ),\n",
    "  treatment_responders as (\n",
    "    select 'TR' experiment_group, \n",
    "           int(regexp_extract(lower(a.next_voucher_code), '([0-9]{{2}})(?:off)',1)) discount_redeemed,\n",
    "           a.*\n",
    "    from all_users a \n",
    "    where canvas_variation_name <> 'Control'\n",
    "      and sub_rank = 1\n",
    "      and free_trial_start_date        is not null\n",
    "      and next_free_trial_start_date   is null\n",
    "      and paid_subscription_start_date is null\n",
    "      and datediff(coalesce(next_paid_subscription_start_date, '9999-12-31'), free_trial_end_date) <= {HORIZON_DAYS}\n",
    "      --and int(regexp_extract(lower(a.next_voucher_code), '([0-9]{{2}})(?:off)',1)) is not null\n",
    "  )\n",
    "  select hs_user_id,\n",
    "         signup_date,\n",
    "         experiment_group,\n",
    "         discount_redeemed,\n",
    "         num_offers_20,\n",
    "         num_offers_30,\n",
    "         num_offers_40\n",
    "  from control_nonresponders\n",
    "  union all \n",
    "  select hs_user_id,\n",
    "         signup_date,\n",
    "         experiment_group,\n",
    "         discount_redeemed,\n",
    "         num_offers_20,\n",
    "         num_offers_30,\n",
    "         num_offers_40\n",
    "  from treatment_nonresponders\n",
    "  union all \n",
    "  select hs_user_id,\n",
    "         signup_date,\n",
    "         experiment_group,\n",
    "         discount_redeemed,\n",
    "         num_offers_20,\n",
    "         num_offers_30,\n",
    "         num_offers_40\n",
    "  from control_responders\n",
    "  union all \n",
    "  select hs_user_id,\n",
    "         signup_date,\n",
    "         experiment_group,\n",
    "         discount_redeemed,\n",
    "         num_offers_20,\n",
    "         num_offers_30,\n",
    "         num_offers_40\n",
    "  from treatment_responders\n",
    "\"\"\"\n",
    "\n",
    "df = spark.sql(query)"
   ]
  },
  {
   "cell_type": "code",
   "execution_count": 0,
   "metadata": {
    "application/vnd.databricks.v1+cell": {
     "cellMetadata": {},
     "inputWidgets": {},
     "nuid": "e10d9856-6c1b-430e-bc93-604961084719",
     "showTitle": false,
     "title": ""
    }
   },
   "outputs": [],
   "source": []
  }
 ],
 "metadata": {
  "application/vnd.databricks.v1+notebook": {
   "dashboards": [],
   "language": "python",
   "notebookMetadata": {},
   "notebookName": "ftdo__test-tracking-script",
   "widgets": {}
  }
 },
 "nbformat": 4,
 "nbformat_minor": 0
}
