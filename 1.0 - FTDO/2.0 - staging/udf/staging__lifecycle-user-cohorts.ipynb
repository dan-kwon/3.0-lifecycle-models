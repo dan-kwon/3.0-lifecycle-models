{
 "cells": [
  {
   "cell_type": "code",
   "execution_count": 0,
   "metadata": {
    "application/vnd.databricks.v1+cell": {
     "cellMetadata": {},
     "inputWidgets": {},
     "nuid": "18fa54fe-d1ee-43ba-9536-ca08a40b0f45",
     "showTitle": false,
     "title": ""
    }
   },
   "outputs": [],
   "source": [
    "def get_user_cohort(cohort, country_code, subscription_type, begin_date, end_date):\n",
    "  if cohort == \"free trial drop out\":\n",
    "    query = f\"\"\"\n",
    "      select s.*,\n",
    "             s.dt signup_date,\n",
    "             date_add(last_day(add_months(s.dt, -1)),1) signup_month\n",
    "      from silver.fact_subscription s\n",
    "      where lower(s.subscription_type) = '{subscription_type}'\n",
    "        and lower(s.country_code) = '{country_code}'\n",
    "        and s.free_trial_start_date between '{begin_date}' and '{end_date}'\n",
    "      \"\"\"\n",
    "    return spark.sql(query)\n",
    "  elif cohort == \"winback\":\n",
    "    print(\"WIP\")\n",
    "    return None\n",
    "  else:\n",
    "    print(\"ERROR: COHORT NOT DEFINED\")\n",
    "    return None"
   ]
  }
 ],
 "metadata": {
  "application/vnd.databricks.v1+notebook": {
   "dashboards": [],
   "language": "python",
   "notebookMetadata": {},
   "notebookName": "staging__lifecycle-user-cohorts",
   "widgets": {}
  }
 },
 "nbformat": 4,
 "nbformat_minor": 0
}
