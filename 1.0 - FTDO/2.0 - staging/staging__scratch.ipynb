{
 "cells": [
  {
   "cell_type": "code",
   "execution_count": 0,
   "metadata": {
    "application/vnd.databricks.v1+cell": {
     "cellMetadata": {},
     "inputWidgets": {},
     "nuid": "35f2b447-65de-46ed-8679-9a3164cd3797",
     "showTitle": false,
     "title": ""
    }
   },
   "outputs": [],
   "source": [
    "%sql \n",
    "select * \n",
    "from ds_staging.lifecycle_models__ftdo_propensity_scores"
   ]
  }
 ],
 "metadata": {
  "application/vnd.databricks.v1+notebook": {
   "dashboards": [],
   "language": "python",
   "notebookMetadata": {},
   "notebookName": "staging__scratch",
   "widgets": {}
  }
 },
 "nbformat": 4,
 "nbformat_minor": 0
}
