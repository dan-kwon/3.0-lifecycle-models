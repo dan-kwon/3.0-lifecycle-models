{
 "cells": [
  {
   "cell_type": "code",
   "execution_count": 0,
   "metadata": {
    "application/vnd.databricks.v1+cell": {
     "cellMetadata": {},
     "inputWidgets": {},
     "nuid": "c1a10f96-c78f-4d13-9405-382e19641f5e",
     "showTitle": false,
     "title": ""
    }
   },
   "outputs": [],
   "source": [
    "import pandas as pd"
   ]
  },
  {
   "cell_type": "code",
   "execution_count": 0,
   "metadata": {
    "application/vnd.databricks.v1+cell": {
     "cellMetadata": {},
     "inputWidgets": {},
     "nuid": "00bf13fa-6920-49f4-a215-f487911d4321",
     "showTitle": false,
     "title": ""
    }
   },
   "outputs": [],
   "source": [
    "dbutils.notebook.run(\"1.0 - lifecycle-FT-conversion\", 60*45, {\"test_begin_date\":  \"2022-02-01\",\n",
    "                                                              \"test_end_date\":    \"2022-02-28\",\n",
    "                                                              \"user_cohort\":      \"free trial drop out\",\n",
    "                                                              \"target_event\":     \"converted free trial drop out\",\n",
    "                                                             })"
   ]
  },
  {
   "cell_type": "code",
   "execution_count": 0,
   "metadata": {
    "application/vnd.databricks.v1+cell": {
     "cellMetadata": {},
     "inputWidgets": {},
     "nuid": "ea68ac8f-be19-4e26-bc28-3eda9e8915b0",
     "showTitle": false,
     "title": ""
    }
   },
   "outputs": [],
   "source": [
    "dbutils.notebook.run(\"1.0 - lifecycle-FT-conversion\", 60*45, {\"test_begin_date\":  \"2022-01-01\",\n",
    "                                                              \"test_end_date\":    \"2022-01-31\",\n",
    "                                                              \"user_cohort\":      \"free trial drop out\",\n",
    "                                                              \"target_event\":     \"converted free trial drop out\",\n",
    "                                                             })"
   ]
  },
  {
   "cell_type": "code",
   "execution_count": 0,
   "metadata": {
    "application/vnd.databricks.v1+cell": {
     "cellMetadata": {},
     "inputWidgets": {},
     "nuid": "0e5c0929-cc95-4364-9dd3-d6bd868e0cd2",
     "showTitle": false,
     "title": ""
    }
   },
   "outputs": [],
   "source": [
    "%sql\n",
    "select max(signup_date)\n",
    "from ds_staging.features__events_first_n_days;"
   ]
  },
  {
   "cell_type": "code",
   "execution_count": 0,
   "metadata": {
    "application/vnd.databricks.v1+cell": {
     "cellMetadata": {},
     "inputWidgets": {},
     "nuid": "6a5f3c51-c4be-47c5-86ac-462ddf65cc87",
     "showTitle": false,
     "title": ""
    }
   },
   "outputs": [],
   "source": [
    "%sql\n",
    "select max(signup_date)\n",
    "from ds_staging.features__engagement_first_n_days;"
   ]
  },
  {
   "cell_type": "code",
   "execution_count": 0,
   "metadata": {
    "application/vnd.databricks.v1+cell": {
     "cellMetadata": {},
     "inputWidgets": {},
     "nuid": "f86e5601-3d78-4db3-bb55-c916894d3481",
     "showTitle": false,
     "title": ""
    }
   },
   "outputs": [],
   "source": [
    "for i in [str(x) for x in pd.date_range(start=\"2021-06-01\", end=\"2021-12-01\", freq=\"d\").date]:\n",
    "  print(i)\n",
    "  #month_beg_date = i\n",
    "  #month_end_date = (pd.to_datetime(i, format=\"%Y-%m-%d\") + MonthEnd(1)).date()\n",
    "  #dbutils.notebook.run(\"1.0 - PSM-first-n-days\", 60*45, {\"begin_date\":   month_beg_date,\n",
    "  #                                                       \"end_date\":     month_end_date,\n",
    "  #                                                       \"user_cohort\":  \"new users\",\n",
    "  #                                                       \"target_event\": \"first course playback\",\n",
    "  #                                                      })"
   ]
  },
  {
   "cell_type": "code",
   "execution_count": 0,
   "metadata": {
    "application/vnd.databricks.v1+cell": {
     "cellMetadata": {},
     "inputWidgets": {},
     "nuid": "9af39ea1-ee28-444d-92e6-cd604083efa1",
     "showTitle": false,
     "title": ""
    }
   },
   "outputs": [],
   "source": []
  }
 ],
 "metadata": {
  "application/vnd.databricks.v1+notebook": {
   "dashboards": [],
   "language": "python",
   "notebookMetadata": {},
   "notebookName": "__staging__ftdo__backfill_script",
   "widgets": {}
  }
 },
 "nbformat": 4,
 "nbformat_minor": 0
}
