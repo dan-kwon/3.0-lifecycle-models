{
 "cells": [
  {
   "cell_type": "markdown",
   "metadata": {
    "application/vnd.databricks.v1+cell": {
     "cellMetadata": {},
     "inputWidgets": {},
     "nuid": "e4c62bb2-d73b-46c6-86a0-7ea4de3dc3cd",
     "showTitle": false,
     "title": ""
    }
   },
   "source": [
    "#### user cohorts and targets for winback"
   ]
  },
  {
   "cell_type": "markdown",
   "metadata": {
    "application/vnd.databricks.v1+cell": {
     "cellMetadata": {},
     "inputWidgets": {},
     "nuid": "a3057322-be93-450b-a3d5-dc5f7634c72f",
     "showTitle": false,
     "title": ""
    }
   },
   "source": [
    "#### days until return - relative to previous subscription end date"
   ]
  },
  {
   "cell_type": "code",
   "execution_count": 0,
   "metadata": {
    "application/vnd.databricks.v1+cell": {
     "cellMetadata": {},
     "inputWidgets": {},
     "nuid": "f7dfd454-4b8f-4d2c-b2be-84191bbe9733",
     "showTitle": false,
     "title": ""
    }
   },
   "outputs": [],
   "source": [
    "%sql\n",
    "with \n",
    "braze as (\n",
    "    select external_user_id,\n",
    "           case when canvas_variation_name = 'Control' then 'control' else 'treatment' end as experiment_group,\n",
    "           min(case when event_name = 'users_messages_email_delivery' then b.dt else null end) as first_email_date,\n",
    "           min(case when event_name = 'users_canvas_entry' then b.dt else null end) as canvas_entry_date,\n",
    "           min(case when canvas_variation_name =  'Control' and event_name = 'users_canvas_entry' then b.dt \n",
    "                    when canvas_variation_name <> 'Control' and event_name = 'users_messages_email_delivery' then b.dt \n",
    "                    else null end) as test_date,\n",
    "           count(case when b.canvas_step_name like '%10%' then 1 else null end) num_offers_10,\n",
    "           count(case when b.canvas_step_name like '%20%' then 1 else null end) num_offers_20,\n",
    "           count(case when b.canvas_step_name like '%30%' then 1 else null end) num_offers_30,\n",
    "           count(case when b.canvas_step_name like '%40%' then 1 else null end) num_offers_40\n",
    "    from bronze.braze_events b\n",
    "    where lower(canvas_name) like '%email%winback%'\n",
    "      and event_name in ('users_canvas_entry','users_messages_email_delivery')\n",
    "    group by 1,2\n",
    "    having (num_offers_10 + num_offers_20 + num_offers_30 + num_offers_40) > 0 \n",
    "        or experiment_group = 'control'\n",
    "),\n",
    "subscription as (\n",
    "    select s.hs_user_id,\n",
    "           s.dt,\n",
    "           s.free_trial_start_date,\n",
    "           s.free_trial_end_date,\n",
    "           s.paid_subscription_start_date,\n",
    "           s.paid_subscription_end_date,\n",
    "           lead(s.free_trial_start_date, 1, '9999-12-31') over(partition by hs_user_id order by dt) next_free_trial_start_date,\n",
    "           lead(s.free_trial_end_date, 1, '9999-12-31') over(partition by hs_user_id order by dt) next_free_trial_end_date,\n",
    "           lead(s.paid_subscription_start_date, 1, '9999-12-31') over(partition by hs_user_id order by dt) next_paid_subscription_start_date,\n",
    "           lead(s.paid_subscription_end_date, 1, '9999-12-31') over(partition by hs_user_id order by dt) next_paid_subscription_end_date,\n",
    "           row_number() over(partition by hs_user_id order by dt) sub_rank\n",
    "    from silver.fact_subscription s\n",
    "    where s.hs_user_id is not null\n",
    "      and lower(s.subscription_type) = 'b2c'\n",
    "      and \n",
    ")\n",
    "select s.hs_user_id,\n",
    "       coalesce(s.paid_subscription_end_date,s.free_trial_end_date) subscription_end_date,\n",
    "       b.experiment_group,\n",
    "       b.num_offers_10,\n",
    "       b.num_offers_20,\n",
    "       b.num_offers_30,\n",
    "       b.num_offers_40,\n",
    "       datediff(b.canvas_entry_date, coalesce(s.paid_subscription_end_date, s.free_trial_end_date)) days_since_cancel,\n",
    "       datediff(coalesce(s.paid_subscription_end_date, s.free_trial_end_date), s.dt) tenure_at_cancel,\n",
    "       s.sub_rank-1 num_previous_subscriptions,\n",
    "       case when datediff(s.next_paid_subscription_start_date, b.canvas_entry_date) <= 28 then 1 else 0 end target\n",
    "from braze b\n",
    "inner join subscription s\n",
    "  on s.hs_user_id = b.external_user_id\n",
    "  and b.canvas_entry_date between coalesce(s.paid_subscription_end_date, s.free_trial_end_date) and s.next_paid_subscription_start_date\n",
    ";"
   ]
  },
  {
   "cell_type": "code",
   "execution_count": 0,
   "metadata": {
    "application/vnd.databricks.v1+cell": {
     "cellMetadata": {},
     "inputWidgets": {},
     "nuid": "dd851d64-2c6d-4b0e-877d-be0efe972c00",
     "showTitle": false,
     "title": ""
    }
   },
   "outputs": [],
   "source": [
    "%sql\n",
    "select * \n",
    "from silver.fact_subscription\n",
    "where hs_user_id = 'HSUSER_01H3F4E2MD654TCBR'"
   ]
  },
  {
   "cell_type": "code",
   "execution_count": 0,
   "metadata": {
    "application/vnd.databricks.v1+cell": {
     "cellMetadata": {},
     "inputWidgets": {},
     "nuid": "f7a90512-2eb8-4472-8ca3-d7ceb9fb1dc9",
     "showTitle": false,
     "title": ""
    }
   },
   "outputs": [],
   "source": [
    "import pandas as pd\n",
    "import numpy as np\n",
    "import seaborn as sns\n",
    "import matplotlib.pyplot as plt\n",
    "from matplotlib.pyplot import figure\n",
    "\n",
    "query_1 = f\"\"\"\n",
    "with \n",
    "braze as (\n",
    "    select external_user_id,\n",
    "           canvas_variation_name,\n",
    "           min(case when event_name = 'users_messages_email_delivery' then b.dt else null end) as first_email_date,\n",
    "           min(case when event_name = 'users_canvas_entry' then b.dt else null end) as canvas_entry_date,\n",
    "           min(case when canvas_variation_name =  'Control' and event_name = 'users_canvas_entry' then b.dt \n",
    "                    when canvas_variation_name <> 'Control' and event_name = 'users_messages_email_delivery' then b.dt \n",
    "                    else null end) as test_date,\n",
    "           count(case when b.canvas_step_name like '%10%' then 1 else null end) num_offers_10,\n",
    "           count(case when b.canvas_step_name like '%20%' then 1 else null end) num_offers_20,\n",
    "           count(case when b.canvas_step_name like '%30%' then 1 else null end) num_offers_30,\n",
    "           count(case when b.canvas_step_name like '%40%' then 1 else null end) num_offers_40\n",
    "    from bronze.braze_events b\n",
    "    where lower(canvas_name) like '%winback%'\n",
    "      and event_name in ('users_canvas_entry','users_messages_email_delivery')\n",
    "    group by 1,2\n",
    "    having canvas_entry_date >= '2021-01-01'\n",
    "),\n",
    "subscriptions as (\n",
    "    select s.hs_user_id,\n",
    "           s.voucher_code,\n",
    "           s.plan_initial_term_months,\n",
    "           s.dt,\n",
    "           s.free_trial_start_date,\n",
    "           s.free_trial_end_date,\n",
    "           s.paid_subscription_start_date,\n",
    "           s.paid_subscription_end_date,\n",
    "           s.created_timestamp,\n",
    "           s.updated_timestamp,\n",
    "           lead(s.paid_subscription_start_date) over (partition by s.hs_user_id order by s.paid_subscription_start_date) next_paid_subscription_start_date,\n",
    "           lead(s.voucher_code) over (partition by hs_user_id order by s.dt, s.created_timestamp, s.updated_timestamp) next_voucher_code\n",
    "    from silver.fact_subscription s\n",
    "    where lower(s.country_code) = 'us'\n",
    "      and lower(s.subscription_type) = 'b2c'\n",
    "),\n",
    "all_users as (\n",
    "  select s.*,\n",
    "       b.first_email_date,\n",
    "       b.canvas_variation_name,\n",
    "       b.num_offers_10,\n",
    "       b.num_offers_20,\n",
    "       b.num_offers_30,\n",
    "       b.num_offers_40,\n",
    "       b.canvas_entry_date,\n",
    "       row_number() over(partition by s.hs_user_id order by datediff(b.canvas_entry_date,s.paid_subscription_end_date)) sub_rank\n",
    "  from braze b\n",
    "  inner join subscriptions s\n",
    "    on b.external_user_id = s.hs_user_id\n",
    "    and b.canvas_entry_date >= s.paid_subscription_end_date\n",
    "    and s.paid_subscription_end_date between '2021-01-01' and '2021-12-31'\n",
    "    and datediff(s.paid_subscription_end_date, s.paid_subscription_start_date) >= 28\n",
    ")\n",
    "select hs_user_id,\n",
    "       plan_initial_term_months,\n",
    "       datediff(paid_subscription_end_date, dt) tenure_at_cancellation,\n",
    "       datediff(coalesce(next_paid_subscription_start_date, '9999-12-31'), paid_subscription_end_date) days_until_return__from_previous_subscription_end_date,\n",
    "       datediff(coalesce(next_paid_subscription_start_date, '9999-12-31'), first_email_date) days_until_return__from_first_email_date\n",
    "from all_users a\n",
    "where canvas_variation_name = 'Control'\n",
    "  and sub_rank = 1\n",
    "  and paid_subscription_end_date is not null\n",
    "  and next_paid_subscription_start_date >= paid_subscription_end_date\n",
    "  and next_paid_subscription_start_date is not null\n",
    "  and datediff(coalesce(next_paid_subscription_start_date, '9999-12-31'), paid_subscription_end_date) <= 365\n",
    "\"\"\"\n",
    "\n",
    "query_2 = f\"\"\"\n",
    "with \n",
    "braze as (\n",
    "    select external_user_id,\n",
    "           canvas_variation_name,\n",
    "           min(case when event_name = 'users_messages_email_delivery' then b.dt else null end) as first_email_date,\n",
    "           min(case when event_name = 'users_canvas_entry' then b.dt else null end) as canvas_entry_date,\n",
    "           min(case when canvas_variation_name =  'Control' and event_name = 'users_canvas_entry' then b.dt \n",
    "                    when canvas_variation_name <> 'Control' and event_name = 'users_messages_email_delivery' then b.dt \n",
    "                    else null end) as test_date,\n",
    "           count(case when b.canvas_step_name like '%10%' then 1 else null end) num_offers_10,\n",
    "           count(case when b.canvas_step_name like '%20%' then 1 else null end) num_offers_20,\n",
    "           count(case when b.canvas_step_name like '%30%' then 1 else null end) num_offers_30,\n",
    "           count(case when b.canvas_step_name like '%40%' then 1 else null end) num_offers_40\n",
    "    from bronze.braze_events b\n",
    "    where lower(canvas_name) like '%winback%'\n",
    "      and event_name in ('users_canvas_entry','users_messages_email_delivery')\n",
    "    group by 1,2\n",
    "    having canvas_entry_date >= '2021-01-01'\n",
    "),\n",
    "subscriptions as (\n",
    "    select s.hs_user_id,\n",
    "           s.voucher_code,\n",
    "           s.plan_initial_term_months,\n",
    "           s.dt,\n",
    "           s.free_trial_start_date,\n",
    "           s.free_trial_end_date,\n",
    "           s.paid_subscription_start_date,\n",
    "           s.paid_subscription_end_date,\n",
    "           s.created_timestamp,\n",
    "           s.updated_timestamp,\n",
    "           lead(s.paid_subscription_start_date) over (partition by s.hs_user_id order by s.paid_subscription_start_date) next_paid_subscription_start_date,\n",
    "           lead(s.voucher_code) over (partition by hs_user_id order by s.dt, s.created_timestamp, s.updated_timestamp) next_voucher_code\n",
    "    from silver.fact_subscription s\n",
    "    where lower(s.country_code) = 'us'\n",
    "      and lower(s.subscription_type) = 'b2c'\n",
    "),\n",
    "all_users as (\n",
    "  select s.*,\n",
    "       b.first_email_date,\n",
    "       b.canvas_variation_name,\n",
    "       b.num_offers_10,\n",
    "       b.num_offers_20,\n",
    "       b.num_offers_30,\n",
    "       b.num_offers_40,\n",
    "       b.canvas_entry_date,\n",
    "       row_number() over(partition by s.hs_user_id order by datediff(b.canvas_entry_date,s.paid_subscription_end_date)) sub_rank\n",
    "  from braze b\n",
    "  inner join subscriptions s\n",
    "    on b.external_user_id = s.hs_user_id\n",
    "    and b.canvas_entry_date >= s.paid_subscription_end_date\n",
    "    and s.paid_subscription_end_date between '2021-01-01' and '2021-12-31'\n",
    "    and datediff(s.paid_subscription_end_date, s.paid_subscription_start_date) >= 28\n",
    ")\n",
    "select hs_user_id,\n",
    "       plan_initial_term_months,\n",
    "       datediff(paid_subscription_end_date, dt) tenure_at_cancellation,\n",
    "       datediff(coalesce(next_paid_subscription_start_date, '9999-12-31'), paid_subscription_end_date) days_until_return__from_previous_subscription_end_date,\n",
    "       datediff(coalesce(next_paid_subscription_start_date, '9999-12-31'), first_email_date) days_until_return__from_first_email_date,\n",
    "       datediff(first_email_date, paid_subscription_end_date) days_until_email__from_subscription_end_date\n",
    "from all_users a\n",
    "where (lower(canvas_variation_name) like 'winback' or lower(canvas_variation_name) like '%10%' or lower(canvas_variation_name) like '%40%')\n",
    "  and num_offers_10 + num_offers_20 + num_offers_30 + num_offers_40 > 0\n",
    "  and sub_rank = 1\n",
    "  and paid_subscription_end_date is not null\n",
    "  and coalesce(next_paid_subscription_start_date,'9999-12-31') >= paid_subscription_end_date\n",
    "  and datediff(coalesce(next_paid_subscription_start_date, '9999-12-31'), paid_subscription_end_date) <= 365\n",
    "\"\"\""
   ]
  },
  {
   "cell_type": "code",
   "execution_count": 0,
   "metadata": {
    "application/vnd.databricks.v1+cell": {
     "cellMetadata": {},
     "inputWidgets": {},
     "nuid": "72da1714-7c3d-412b-94d4-407c1a1d1736",
     "showTitle": false,
     "title": ""
    }
   },
   "outputs": [],
   "source": [
    "control_responders_days_until_return   = spark.sql(query_1).toPandas()\n",
    "treatment_responders_days_until_return = spark.sql(query_2).toPandas()"
   ]
  },
  {
   "cell_type": "code",
   "execution_count": 0,
   "metadata": {
    "application/vnd.databricks.v1+cell": {
     "cellMetadata": {},
     "inputWidgets": {},
     "nuid": "25cbebcd-ccd9-43b5-ad9a-7f687ad70f5d",
     "showTitle": false,
     "title": ""
    }
   },
   "outputs": [],
   "source": [
    "# tenure at cancellation\n",
    "sns.set(rc={\"figure.figsize\":(15, 10)})\n",
    "\n",
    "fig, ax = plt.subplots()\n",
    "\n",
    "sns.histplot(control_responders_days_until_return.loc[control_responders_days_until_return[\"plan_initial_term_months\"]==1,\n",
    "                                                      \"tenure_at_cancellation\"], \n",
    "             stat=\"density\", binwidth=28, label=\"control\", color=\"orange\", kde=True, ax=ax)\n",
    "sns.histplot(treatment_responders_days_until_return.loc[treatment_responders_days_until_return[\"plan_initial_term_months\"]==1,\n",
    "                                                        \"tenure_at_cancellation\"], \n",
    "             stat=\"density\", binwidth=28, label=\"treatment\", color=\"blue\", kde=True, ax=ax)\n",
    "plt.legend()\n",
    "plt.show()"
   ]
  },
  {
   "cell_type": "code",
   "execution_count": 0,
   "metadata": {
    "application/vnd.databricks.v1+cell": {
     "cellMetadata": {},
     "inputWidgets": {},
     "nuid": "5d942a93-df06-44f2-84fb-e50637f95abc",
     "showTitle": false,
     "title": ""
    }
   },
   "outputs": [],
   "source": [
    "# tenure at cancellation\n",
    "\n",
    "sns.set(rc={\"figure.figsize\":(15, 10)})\n",
    "\n",
    "fig, ax = plt.subplots()\n",
    "\n",
    "sns.histplot(control_responders_days_until_return.loc[control_responders_days_until_return[\"plan_initial_term_months\"]==12,\n",
    "                                                      \"tenure_at_cancellation\"], \n",
    "             stat=\"density\", binwidth=28, label=\"control\", color=\"orange\", kde=True, ax=ax)\n",
    "sns.histplot(treatment_responders_days_until_return.loc[treatment_responders_days_until_return[\"plan_initial_term_months\"]==12,\n",
    "                                                        \"tenure_at_cancellation\"], \n",
    "             stat=\"density\", binwidth=28, label=\"treatment\", color=\"blue\", kde=True, ax=ax)\n",
    "plt.legend()\n",
    "plt.show()"
   ]
  },
  {
   "cell_type": "code",
   "execution_count": 0,
   "metadata": {
    "application/vnd.databricks.v1+cell": {
     "cellMetadata": {},
     "inputWidgets": {},
     "nuid": "1ad4856b-4788-414d-a4b8-ccdc0c405ce0",
     "showTitle": false,
     "title": ""
    }
   },
   "outputs": [],
   "source": [
    "sns.set(rc={\"figure.figsize\":(15, 10)})\n",
    "\n",
    "fig, ax = plt.subplots()\n",
    "\n",
    "sns.histplot(treatment_responders_days_until_return.loc[(treatment_responders_days_until_return[\"days_until_return__from_previous_subscription_end_date\"]<=35)&\n",
    "                                                        (treatment_responders_days_until_return[\"plan_initial_term_months\"]==1),\n",
    "                                                        \"tenure_at_cancellation\"], \n",
    "             stat=\"density\", binwidth=28, label=\"users that returned within winback window\", color=\"blue\", kde=True, ax=ax)\n",
    "sns.histplot(treatment_responders_days_until_return.loc[(treatment_responders_days_until_return[\"days_until_return__from_previous_subscription_end_date\"]>35)&\n",
    "                                                        (treatment_responders_days_until_return[\"plan_initial_term_months\"]==1),\n",
    "                                                        \"tenure_at_cancellation\"], \n",
    "             stat=\"density\", binwidth=28, label=\"users that returns outside of winback window\", color=\"orange\", kde=True, ax=ax)\n",
    "plt.legend()\n",
    "plt.show()"
   ]
  },
  {
   "cell_type": "code",
   "execution_count": 0,
   "metadata": {
    "application/vnd.databricks.v1+cell": {
     "cellMetadata": {},
     "inputWidgets": {},
     "nuid": "f6376a46-1e79-402a-8b97-92d978b243b2",
     "showTitle": false,
     "title": ""
    }
   },
   "outputs": [],
   "source": [
    "sns.set(rc={\"figure.figsize\":(15, 10)})\n",
    "\n",
    "fig, ax = plt.subplots()\n",
    "\n",
    "sns.scatterplot(treatment_responders_days_until_return.loc[(treatment_responders_days_until_return[\"plan_initial_term_months\"]==1) &\n",
    "                                                           (treatment_responders_days_until_return[\"tenure_at_cancellation\"]>0),\n",
    "                                                           \"tenure_at_cancellation\"],\n",
    "                treatment_responders_days_until_return.loc[(treatment_responders_days_until_return[\"plan_initial_term_months\"]==1) &\n",
    "                                                           (treatment_responders_days_until_return[\"tenure_at_cancellation\"]>0),\n",
    "                                                           \"days_until_return__from_previous_subscription_end_date\"])\n",
    "plt.legend()\n",
    "plt.show()"
   ]
  },
  {
   "cell_type": "code",
   "execution_count": 0,
   "metadata": {
    "application/vnd.databricks.v1+cell": {
     "cellMetadata": {},
     "inputWidgets": {},
     "nuid": "96a1b077-d60b-4055-a724-14110673f218",
     "showTitle": false,
     "title": ""
    }
   },
   "outputs": [],
   "source": [
    "sns.set(rc={\"figure.figsize\":(15, 10)})\n",
    "\n",
    "fig, ax = plt.subplots()\n",
    "\n",
    "sns.histplot(treatment_responders_days_until_return.loc[treatment_responders_days_until_return[\"days_until_return__from_previous_subscription_end_date\"]>0,\n",
    "                                                        \"days_until_return__from_previous_subscription_end_date\"], \n",
    "             stat=\"density\", binwidth=3, label=\"\", color=\"orange\", kde=True, ax=ax)\n",
    "sns.histplot(treatment_responders_days_until_return.loc[treatment_responders_days_until_return[\"days_until_return__from_previous_subscription_end_date\"]>0,\n",
    "                                                        \"days_until_return__from_previous_subscription_end_date\"], \n",
    "             stat=\"density\", binwidth=3, label=\"treatment\", color=\"blue\", kde=True, ax=ax)\n",
    "plt.legend()\n",
    "plt.show()"
   ]
  },
  {
   "cell_type": "code",
   "execution_count": 0,
   "metadata": {
    "application/vnd.databricks.v1+cell": {
     "cellMetadata": {},
     "inputWidgets": {},
     "nuid": "ad361796-105d-4af1-854e-651ceeb73de0",
     "showTitle": false,
     "title": ""
    }
   },
   "outputs": [],
   "source": [
    "sns.histplot(control_responders_days_until_return.loc[control_responders_days_until_return[\"days_until_return__from_previous_subscription_end_date\"]>0,\n",
    "                                                      \"days_until_return__from_previous_subscription_end_date\"], \n",
    "             stat=\"density\", binwidth=3, label=\"control\", color=\"blue\", kde=True, ax=ax)"
   ]
  },
  {
   "cell_type": "markdown",
   "metadata": {
    "application/vnd.databricks.v1+cell": {
     "cellMetadata": {},
     "inputWidgets": {},
     "nuid": "084ff38b-8378-49f3-b954-001827c6280e",
     "showTitle": false,
     "title": ""
    }
   },
   "source": [
    "#### days until return - relative to first email received date"
   ]
  },
  {
   "cell_type": "code",
   "execution_count": 0,
   "metadata": {
    "application/vnd.databricks.v1+cell": {
     "cellMetadata": {},
     "inputWidgets": {},
     "nuid": "dc4c8654-8855-4c22-b99e-26770deb9ce1",
     "showTitle": false,
     "title": ""
    }
   },
   "outputs": [],
   "source": [
    "sns.set(rc={\"figure.figsize\":(15, 10)})\n",
    "\n",
    "sns.histplot(treatment_responders_days_until_return.loc[treatment_responders_days_until_return[\"days_until_return__from_previous_subscription_end_date\"]>0,\n",
    "                                                        \"days_until_return__from_previous_subscription_end_date\"], \n",
    "             stat=\"density\", binwidth=3, label=\"treatment\", color=\"blue\", kde=True)\n",
    "plt.legend()\n",
    "plt.show()"
   ]
  },
  {
   "cell_type": "markdown",
   "metadata": {
    "application/vnd.databricks.v1+cell": {
     "cellMetadata": {},
     "inputWidgets": {},
     "nuid": "e6b70a9d-dc49-4fb4-811a-aa84b3a42873",
     "showTitle": false,
     "title": ""
    }
   },
   "source": [
    "#### days off service - take rate"
   ]
  },
  {
   "cell_type": "code",
   "execution_count": 0,
   "metadata": {
    "application/vnd.databricks.v1+cell": {
     "cellMetadata": {},
     "inputWidgets": {},
     "nuid": "4182e7f0-1ccc-418f-8cfe-ac53818acf97",
     "showTitle": false,
     "title": ""
    }
   },
   "outputs": [],
   "source": [
    "len([i for i in np.arange(5, 370, 5, dtype=int)])"
   ]
  },
  {
   "cell_type": "code",
   "execution_count": 0,
   "metadata": {
    "application/vnd.databricks.v1+cell": {
     "cellMetadata": {},
     "inputWidgets": {},
     "nuid": "b7e28784-9ba3-4b85-b7ba-73241f055e11",
     "showTitle": false,
     "title": ""
    }
   },
   "outputs": [],
   "source": [
    "cut_bins     = [i for i in np.arange(0, 365, 5, dtype=int)]\n",
    "score_labels = [i for i in np.arange(5, 375, 5, dtype=int)]\n",
    "len(cut_bins)\n",
    "len(score_labels)"
   ]
  },
  {
   "cell_type": "code",
   "execution_count": 0,
   "metadata": {
    "application/vnd.databricks.v1+cell": {
     "cellMetadata": {},
     "inputWidgets": {},
     "nuid": "b221a29c-0d6e-4cdf-a443-55aaf2fc90b6",
     "showTitle": false,
     "title": ""
    }
   },
   "outputs": [],
   "source": [
    "365*2"
   ]
  },
  {
   "cell_type": "code",
   "execution_count": 0,
   "metadata": {
    "application/vnd.databricks.v1+cell": {
     "cellMetadata": {},
     "inputWidgets": {},
     "nuid": "93fb278c-453d-4a94-94d1-384ad20fab6e",
     "showTitle": false,
     "title": ""
    }
   },
   "outputs": [],
   "source": [
    "%sql\n",
    "select percentile_approx(day0_content_starts +\n",
    "                         day1_content_starts +\n",
    "                         day2_content_starts +\n",
    "                         day3_content_starts +\n",
    "                         day4_content_starts +\n",
    "                         day5_content_starts +\n",
    "                         day6_content_starts +\n",
    "                         day7_content_starts, 0.5)\n",
    "from ds_staging.features__engagement_first_7_days\n",
    "where signup_date >= '2022-01-01';"
   ]
  },
  {
   "cell_type": "code",
   "execution_count": 0,
   "metadata": {
    "application/vnd.databricks.v1+cell": {
     "cellMetadata": {},
     "inputWidgets": {},
     "nuid": "84b49133-baf8-4b2b-8b1e-bea5262aba8f",
     "showTitle": false,
     "title": ""
    }
   },
   "outputs": [],
   "source": [
    "pd.qcut(treatment_responders_days_until_return['days_until_email__from_subscription_end_date'], \n",
    "         q=10,\n",
    "         duplicates=\"drop\")"
   ]
  },
  {
   "cell_type": "code",
   "execution_count": 0,
   "metadata": {
    "application/vnd.databricks.v1+cell": {
     "cellMetadata": {},
     "inputWidgets": {},
     "nuid": "5498d708-2e8f-43b7-82d5-bfffb920e86f",
     "showTitle": false,
     "title": ""
    }
   },
   "outputs": [],
   "source": [
    "treatment_responders_days_until_return[[\"days_until_email__from_subscription_end_date\"]].mean(axis=1)"
   ]
  },
  {
   "cell_type": "code",
   "execution_count": 0,
   "metadata": {
    "application/vnd.databricks.v1+cell": {
     "cellMetadata": {},
     "inputWidgets": {},
     "nuid": "e3f912aa-6227-4a81-8e8f-63b72d03e6ee",
     "showTitle": false,
     "title": ""
    }
   },
   "outputs": [],
   "source": [
    "treatment_responders_days_until_return.head()"
   ]
  },
  {
   "cell_type": "code",
   "execution_count": 0,
   "metadata": {
    "application/vnd.databricks.v1+cell": {
     "cellMetadata": {},
     "inputWidgets": {},
     "nuid": "ea2ed673-6278-4433-b377-cec5ac9e91a8",
     "showTitle": false,
     "title": ""
    }
   },
   "outputs": [],
   "source": [
    "index_sort = treatment_responders_days_until_return[[\"days_until_email__from_subscription_end_date\"]].mean().sort_values().index"
   ]
  },
  {
   "cell_type": "code",
   "execution_count": 0,
   "metadata": {
    "application/vnd.databricks.v1+cell": {
     "cellMetadata": {},
     "inputWidgets": {},
     "nuid": "a8cfaf02-cd42-44aa-9a7d-10f8bb791e2a",
     "showTitle": false,
     "title": ""
    }
   },
   "outputs": [],
   "source": [
    "index_sort"
   ]
  },
  {
   "cell_type": "code",
   "execution_count": 0,
   "metadata": {
    "application/vnd.databricks.v1+cell": {
     "cellMetadata": {},
     "inputWidgets": {},
     "nuid": "c2248ee7-ca83-4321-bef2-435078f7ca5a",
     "showTitle": false,
     "title": ""
    }
   },
   "outputs": [],
   "source": [
    "treatment_responders_days_until_return.head()"
   ]
  },
  {
   "cell_type": "code",
   "execution_count": 0,
   "metadata": {
    "application/vnd.databricks.v1+cell": {
     "cellMetadata": {},
     "inputWidgets": {},
     "nuid": "b73904fd-a0bf-451c-ac28-c342488b8ddc",
     "showTitle": false,
     "title": ""
    }
   },
   "outputs": [],
   "source": [
    "sns.set(rc={\"figure.figsize\":(25, 10)})\n",
    "cut_bins     = [i for i in np.arange(0, 730, 5, dtype=int)]\n",
    "score_labels = [i for i in np.arange(0, 725, 5, dtype=int)]\n",
    "\n",
    "treatment_responders_days_until_return['days_until_email__from_subscription_end_date_binned'] = \\\n",
    "  pd.qcut(treatment_responders_days_until_return['days_until_email__from_subscription_end_date'], \n",
    "          q=10,\n",
    "          labels=False,\n",
    "          duplicates=\"drop\").astype(str)\n",
    "\n",
    "# sort on the basis of mean\n",
    "index_sort = treatment_responders_days_until_return[[\"days_until_email__from_subscription_end_date\"]].mean().sort_values().index\n",
    " \n",
    "# now applying the sorted indices to the data\n",
    "treatment_responders_days_until_return_sorted = treatment_responders_days_until_return[index_sort]\n",
    "#treatment_responders_days_until_return.head()\n",
    "\n",
    "ax = sns.boxplot(\n",
    "  x=\"days_until_email__from_subscription_end_date_binned\", \n",
    "  y=\"days_until_return__from_first_email_date\",\n",
    "  data=treatment_responders_days_until_return_sorted.loc[(treatment_responders_days_until_return_sorted[\"days_until_email__from_subscription_end_date\"] > 0)])\n",
    "plt.show()"
   ]
  },
  {
   "cell_type": "code",
   "execution_count": 0,
   "metadata": {
    "application/vnd.databricks.v1+cell": {
     "cellMetadata": {},
     "inputWidgets": {},
     "nuid": "80781f9d-4fc9-4712-95bd-e7c907018487",
     "showTitle": false,
     "title": ""
    }
   },
   "outputs": [],
   "source": [
    "sns.set(rc={\"figure.figsize\":(15, 10)})\n",
    "\n",
    "fig, ax = plt.subplots()\n",
    "\n",
    "sns.histplot(treatment_responders_days_until_return.loc[treatment_responders_days_until_return[\"days_until_return__from_first_email_date\"] > 0,\n",
    "                                                        \"days_until_return__from_first_email_date\"], \n",
    "             stat=\"density\", binwidth=3, label=\"treatment\", color=\"blue\", kde=True, ax=ax)\n",
    "plt.legend()\n",
    "plt.show()"
   ]
  },
  {
   "cell_type": "markdown",
   "metadata": {
    "application/vnd.databricks.v1+cell": {
     "cellMetadata": {},
     "inputWidgets": {},
     "nuid": "1ad784e0-0d1a-44f2-a05a-775bde8a5d75",
     "showTitle": false,
     "title": ""
    }
   },
   "source": [
    "#### adhoc - median content start for rachel"
   ]
  },
  {
   "cell_type": "code",
   "execution_count": 0,
   "metadata": {
    "application/vnd.databricks.v1+cell": {
     "cellMetadata": {},
     "inputWidgets": {},
     "nuid": "efe65e4f-63fa-438d-927f-a7dd7a36726d",
     "showTitle": false,
     "title": ""
    }
   },
   "outputs": [],
   "source": [
    "%sql\n",
    "with temp as (\n",
    "  select s.hs_user_id,\n",
    "         case \n",
    "           when e.hs_user_id is not null then coalesce(day0_content_starts,0) +\n",
    "                                              coalesce(day1_content_starts,0) +\n",
    "                                              coalesce(day2_content_starts,0) +\n",
    "                                              coalesce(day3_content_starts,0) +\n",
    "                                              coalesce(day4_content_starts,0) +\n",
    "                                              coalesce(day5_content_starts,0) +\n",
    "                                              coalesce(day6_content_starts,0) +\n",
    "                                              coalesce(day7_content_starts,0)\n",
    "           else 0\n",
    "           end as week1_content_starts\n",
    "  from silver.fact_subscription s\n",
    "  left join ds_staging.features__engagement_first_7_days e\n",
    "    on e.signup_date >= '2022-01-01'\n",
    "    and s.hs_user_id = e.hs_user_id\n",
    "  where s.dt >= '2022-01-01'\n",
    "    and lower(s.subscription_type) = 'b2c'\n",
    "    and lower(s.country_code) = 'us'\n",
    ")\n",
    "select percentile_approx(week1_content_starts,0.5)\n",
    "from temp"
   ]
  }
 ],
 "metadata": {
  "application/vnd.databricks.v1+notebook": {
   "dashboards": [],
   "language": "python",
   "notebookMetadata": {},
   "notebookName": "scratch",
   "widgets": {}
  }
 },
 "nbformat": 4,
 "nbformat_minor": 0
}
