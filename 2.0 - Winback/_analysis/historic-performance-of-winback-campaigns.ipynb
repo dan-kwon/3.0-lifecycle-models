{
 "cells": [
  {
   "cell_type": "code",
   "execution_count": 0,
   "metadata": {
    "application/vnd.databricks.v1+cell": {
     "cellMetadata": {},
     "inputWidgets": {},
     "nuid": "2e69285e-b1f8-4be3-a140-8413850b0826",
     "showTitle": false,
     "title": ""
    }
   },
   "outputs": [],
   "source": [
    "%sql\n",
    "with \n",
    "subscriptions as (\n",
    "    select hs_user_id,\n",
    "           dt subscription_start_date,\n",
    "           free_trial_start_date,\n",
    "           free_trial_end_date,\n",
    "           paid_subscription_start_date,\n",
    "           paid_subscription_end_date,\n",
    "           lead(dt) over(partition by hs_user_id order by dt) next_subscription_start_date,\n",
    "           lead(paid_subscription_start_date) over(partition by hs_user_id order by dt) next_paid_subscription_start_date,\n",
    "           lead(paid_subscription_end_date) over(partition by hs_user_id order by dt) next_paid_subscription_end_date\n",
    "    from silver.fact_subscription\n",
    "),\n",
    "canvas as (\n",
    "    select id canvas_id,\n",
    "           name,\n",
    "           created_at::date created_date,\n",
    "           first_entry::date first_entry_date,\n",
    "           last_entry::date last_entry_date\n",
    "    from bronze.braze_canvas\n",
    "    where lower(name) like '%winback%'\n",
    "),\n",
    "canvas_entries as (\n",
    "    select s.hs_user_id,\n",
    "           e.dt canvas_entry_date,\n",
    "           e.canvas_name,\n",
    "           e.canvas_id,\n",
    "           e.canvas_variation_name,\n",
    "           c.created_date canvas_created_date,\n",
    "           s.subscription_start_date,\n",
    "           s.free_trial_start_date,\n",
    "           s.free_trial_end_date,\n",
    "           s.paid_subscription_start_date,\n",
    "           s.paid_subscription_end_date,\n",
    "           s.next_subscription_start_date,\n",
    "           s.next_paid_subscription_start_date,\n",
    "           s.next_paid_subscription_end_date\n",
    "    from bronze.braze_events e\n",
    "    inner join canvas c\n",
    "      on e.canvas_id = c.canvas_id\n",
    "    inner join subscriptions s\n",
    "      on s.hs_user_id = e.external_user_id\n",
    "      and e.dt between s.subscription_start_date and coalesce(s.next_subscription_start_date,'9999-12-31')\n",
    "    where e.event_name = 'users_canvas_entry'\n",
    "      --and e.dt between '2021-01-01' and '2021-12-31'\n",
    ")\n",
    "select c.canvas_name,\n",
    "       c.canvas_created_date,\n",
    "       count(case when lower(c.canvas_variation_name) <> 'control' and event_name = 'users_canvas_entry' then 1 else null end) treatment_canvas_entries,\n",
    "       count(case when lower(c.canvas_variation_name) <> 'control' and event_name = 'users_messages_email_delivery' then 1 else null end) treatment_emails_delivered,\n",
    "       count(case when lower(c.canvas_variation_name) <> 'control' and event_name = 'users_messages_email_open' then 1 else null end) treatment_emails_opened,\n",
    "       count(case when lower(c.canvas_variation_name) <> 'control' and event_name = 'users_messages_email_click' then 1 else null end) treatment_emails_clicked,\n",
    "       count(case when lower(c.canvas_variation_name) <> 'control' and event_name = 'users_messages_email_unsubscribe' then 1 else null end) treatment_emails_unsubscribed,\n",
    "       count(case when lower(c.canvas_variation_name) <> 'control' and event_name = 'users_messages_email_mark_as_spam' then 1 else null end) treatment_emails_marked_as_spam,\n",
    "       count(case when lower(c.canvas_variation_name) <> 'control' and event_name = 'users_messages_webhook_send' then 1 else null end) treatment_webhook_sent,\n",
    "       count(case when lower(c.canvas_variation_name) <> 'control' and event_name = 'users_canvas_conversion' then 1 else null end) treatment_canvas_conversion,\n",
    "       count(distinct case when lower(c.canvas_variation_name) <> 'control' and datediff(coalesce(next_paid_subscription_start_date, '9999-12-31'), canvas_entry_date) <= 28 then c.hs_user_id else null end) treatment_conversions,\n",
    "       count(case when lower(c.canvas_variation_name) = 'control' and event_name = 'users_canvas_entry' then 1 else null end) control_canvas_entries,\n",
    "       count(case when lower(c.canvas_variation_name) = 'control' and event_name = 'users_messages_email_delivery' then 1 else null end) control_emails_delivered,\n",
    "       count(case when lower(c.canvas_variation_name) = 'control' and event_name = 'users_messages_email_open' then 1 else null end) control_emails_opened,\n",
    "       count(case when lower(c.canvas_variation_name) = 'control' and event_name = 'users_messages_email_click' then 1 else null end) control_emails_clicked,\n",
    "       count(case when lower(c.canvas_variation_name) = 'control' and event_name = 'users_messages_email_unsubscribe' then 1 else null end) control_emails_unsubscribed,\n",
    "       count(case when lower(c.canvas_variation_name) = 'control' and event_name = 'users_messages_email_mark_as_spam' then 1 else null end) control_emails_marked_as_spam,\n",
    "       count(case when lower(c.canvas_variation_name) = 'control' and event_name = 'users_messages_webhook_send' then 1 else null end) control_webhook_sent,\n",
    "       count(case when lower(c.canvas_variation_name) = 'control' and event_name = 'users_canvas_conversion' then 1 else null end) control_canvas_conversion,\n",
    "       count(distinct case when lower(c.canvas_variation_name) = 'control' and datediff(coalesce(next_paid_subscription_start_date, '9999-12-31'), canvas_entry_date) <= 28 then c.hs_user_id else null end) control_conversions\n",
    "from canvas_entries c\n",
    "inner join bronze.braze_events e\n",
    "  on c.hs_user_id = e.external_user_id\n",
    "  and c.canvas_id = e.canvas_id\n",
    "group by 1,2\n",
    "order by 2 desc"
   ]
  },
  {
   "cell_type": "code",
   "execution_count": 0,
   "metadata": {
    "application/vnd.databricks.v1+cell": {
     "cellMetadata": {},
     "inputWidgets": {},
     "nuid": "2e60e54e-b2fd-4796-920c-0ac2a32263fe",
     "showTitle": false,
     "title": ""
    }
   },
   "outputs": [],
   "source": []
  }
 ],
 "metadata": {
  "application/vnd.databricks.v1+notebook": {
   "dashboards": [],
   "language": "python",
   "notebookMetadata": {},
   "notebookName": "historic-performance-of-winback-campaigns",
   "widgets": {}
  }
 },
 "nbformat": 4,
 "nbformat_minor": 0
}
